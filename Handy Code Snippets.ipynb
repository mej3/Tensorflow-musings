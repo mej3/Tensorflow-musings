{
 "cells": [
  {
   "cell_type": "markdown",
   "metadata": {},
   "source": [
    "Reference: https://www.tensorflow.org/versions/r0.12/get_started/basic_usage"
   ]
  },
  {
   "cell_type": "markdown",
   "metadata": {},
   "source": [
    "### What are Tensor, Graph, Session, Variable?\n",
    "1) A \"tensor\" is like a matrix but with an arbitrary number of dimensions. A 1-dimensional tensor is a vector. A 2-dimensions tensor is a matrix. And then you can have tensors with 3, 4, 5 or more dimensions.  \n",
    "2) A graph defines the computation. It doesn’t compute anything, it doesn’t hold any values, it just defines the operations that you specified in your code.  \n",
    "3) A session allows to execute graphs or part of graphs. It allocates resources (on one or more machines) for that and holds the actual values of intermediate results and variables.   \n",
    "4) We define a graph with a variable and three operations: variable always returns the current value of our variable. initialize assigns a value, say 10, to that variable. assign assigns the new value, say 20, to that variable.   \n",
    "5) To run any of the above three defined operations, we need to create a session for that graph. The session will also allocate memory to store the current value of the variable.   \n",
    "6) Value of our variable is only valid within one session. If we try to query the value afterwards in a second session, TensorFlow will raise an error because the variable is not initialized there.   \n",
    "7) Value of A variable is only valid within one session. If we try to query the value afterwards in a second session, TensorFlow will raise an error because the variable is not initialized there.   "
   ]
  },
  {
   "cell_type": "markdown",
   "metadata": {},
   "source": [
    "### TensorFlow's \"deferred execution\" model\n",
    "1) As Tensorflow is built for distributed computing, it has to know in advance what is to be computed. This is informed via Graph before the tasks are sent to various computers.   \n",
    "2) Once the session is initiated and computations begin with Session.run, graph cannot be changed.   "
   ]
  },
  {
   "cell_type": "markdown",
   "metadata": {},
   "source": [
    "### TensorFlow and Numpy are friends\n",
    "1) When preparing the computation graph, you only manipulate TensorFlow tensors and commands such as tf.matmul, tf.reshape and so on.  \n",
    "2) However, as soon as you execute a Session.run command, the values it returns are Numpy tensors, i.e. numpy.ndarray objects that can be consumed by Numpy and all the scientific comptation libraries based on it. That is how the real-time visualisation was built for this lab, using matplotlib, the standard Python plotting library, which is based on Numpy."
   ]
  },
  {
   "cell_type": "markdown",
   "metadata": {},
   "source": [
    "### TensorFlow overview\n",
    "1) Computations are represented as GRAPHS   \n",
    "2) Nodes in the graph are called OPS or Operations   \n",
    "3) An op takes zero or more tensors, performs some computation and produces zero or more tensors   \n",
    "4) TENSOR is a multi-dimensional array that stores data   \n",
    "5) In a nutshell, TENSORFLOW GRAPH is a description of computations   \n",
    "6) In order to perform computations, graph is launched in a SESSION   \n",
    "7) Session places Graph Ops onto DEVICES such as cpu or gpu and provide METHODS to execute them   \n",
    "8) These methods return tensors produced by ops as NUMPY NDARRAY in Python   \n",
    "9) Tensorflow PROGRAMS have two phases:   \n",
    "    (i) CONSTRUCTION phase that assembles graph (to represent a neural network) and   \n",
    "    (ii) EXECUTION phase that uses a session to execute ops in the graph   \n",
    "10) Graph may be created with ops using no input but only CONSTANT and pass its output to other ops for computation   "
   ]
  },
  {
   "cell_type": "markdown",
   "metadata": {},
   "source": [
    "### Notes:\n",
    "1) Tensorflow python library has a DEFAULT Graph to which ops constructors add nodes.   \n",
    "2) It is better to have disconnected subgraphs within a graph as data cannot be passed between them.   \n",
    "3) Multiple graphs will need multiple sessions as each will try to use all resources by default.    "
   ]
  },
  {
   "cell_type": "code",
   "execution_count": 1,
   "metadata": {
    "collapsed": false
   },
   "outputs": [
    {
     "name": "stdout",
     "output_type": "stream",
     "text": [
      "Tensorflow version 1.3.0\n"
     ]
    }
   ],
   "source": [
    "import numpy as np\n",
    "import tensorflow as tf\n",
    "print(\"Tensorflow version \" + tf.__version__)\n",
    "tf.set_random_seed(0)\n",
    "sess = tf.Session()"
   ]
  },
  {
   "cell_type": "markdown",
   "metadata": {},
   "source": [
    "###### Printing constant"
   ]
  },
  {
   "cell_type": "code",
   "execution_count": 2,
   "metadata": {
    "collapsed": false,
    "scrolled": true
   },
   "outputs": [
    {
     "name": "stdout",
     "output_type": "stream",
     "text": [
      "result1 = \n",
      " [array([[[ 1,  2,  3,  4],\n",
      "        [ 5,  6,  7,  8],\n",
      "        [ 9, 10, 11, 12]],\n",
      "\n",
      "       [[13, 14, 15, 16],\n",
      "        [17, 18, 19, 20],\n",
      "        [21, 22, 23, 24]]])]\n",
      "result2 = \n",
      " [array([[ 1,  2,  3,  4],\n",
      "       [ 5,  6,  7,  8],\n",
      "       [ 9, 10, 11, 12],\n",
      "       [13, 14, 15, 16],\n",
      "       [17, 18, 19, 20],\n",
      "       [21, 22, 23, 24]])]\n",
      "result3 = \n",
      " [array([[ 1,  2,  3,  4,  5,  6,  7,  8],\n",
      "       [ 9, 10, 11, 12, 13, 14, 15, 16],\n",
      "       [17, 18, 19, 20, 21, 22, 23, 24]])]\n",
      "a =  [5 6 7]\n"
     ]
    }
   ],
   "source": [
    "temp = tf.constant([1, 2, 3, 4, 5, 6, 7, 8, 9, 10, 11, 12, 13, 14, 15, 16, 17, 18, 19, 20, 21, 22, 23, 24])\n",
    "result1 = tf.reshape(temp,[2,3,4])\n",
    "result2 = tf.reshape(temp,[6,4])\n",
    "result3 = tf.reshape(temp,[3,8])\n",
    "print('result1 = \\n' ,sess.run([result1]))\n",
    "print('result2 = \\n' ,sess.run([result2]))\n",
    "print('result3 = \\n' ,sess.run([result3]))\n",
    "a = tf.constant([5, 6, 7])\n",
    "print('a = ' , sess.run(a))"
   ]
  },
  {
   "cell_type": "markdown",
   "metadata": {},
   "source": [
    "###### Reshaped tensors"
   ]
  },
  {
   "cell_type": "code",
   "execution_count": 3,
   "metadata": {
    "collapsed": false,
    "scrolled": true
   },
   "outputs": [
    {
     "name": "stdout",
     "output_type": "stream",
     "text": [
      "result4 = \n",
      " [[ 1  2  3  4  5  6  7  8  9 10 11 12]\n",
      " [13 14 15 16 17 18 19 20 21 22 23 24]]\n",
      "result5 = \n",
      " [[ 1  2  3  4  5  6  7  8  9 10 11 12]\n",
      " [13 14 15 16 17 18 19 20 21 22 23 24]]\n",
      "result6 = \n",
      " [[ 1  2  3  4  5  6  7  8  9 10 11 12]\n",
      " [13 14 15 16 17 18 19 20 21 22 23 24]]\n",
      "result7 = \n",
      " [[ 1  2]\n",
      " [ 3  4]\n",
      " [ 5  6]\n",
      " [ 7  8]\n",
      " [ 9 10]\n",
      " [11 12]\n",
      " [13 14]\n",
      " [15 16]\n",
      " [17 18]\n",
      " [19 20]\n",
      " [21 22]\n",
      " [23 24]]\n",
      "result8 = \n",
      " [[ 1  2]\n",
      " [ 3  4]\n",
      " [ 5  6]\n",
      " [ 7  8]\n",
      " [ 9 10]\n",
      " [11 12]\n",
      " [13 14]\n",
      " [15 16]\n",
      " [17 18]\n",
      " [19 20]\n",
      " [21 22]\n",
      " [23 24]]\n",
      "result9 = \n",
      " [[ 1  2]\n",
      " [ 3  4]\n",
      " [ 5  6]\n",
      " [ 7  8]\n",
      " [ 9 10]\n",
      " [11 12]\n",
      " [13 14]\n",
      " [15 16]\n",
      " [17 18]\n",
      " [19 20]\n",
      " [21 22]\n",
      " [23 24]]\n",
      "result10 = \n",
      " [[[ 1  2]\n",
      "  [ 3  4]]\n",
      "\n",
      " [[ 5  6]\n",
      "  [ 7  8]]\n",
      "\n",
      " [[ 9 10]\n",
      "  [11 12]]\n",
      "\n",
      " [[13 14]\n",
      "  [15 16]]\n",
      "\n",
      " [[17 18]\n",
      "  [19 20]]\n",
      "\n",
      " [[21 22]\n",
      "  [23 24]]]\n",
      "result11 = \n",
      " [[[ 1  2]\n",
      "  [ 3  4]\n",
      "  [ 5  6]\n",
      "  [ 7  8]\n",
      "  [ 9 10]\n",
      "  [11 12]]\n",
      "\n",
      " [[13 14]\n",
      "  [15 16]\n",
      "  [17 18]\n",
      "  [19 20]\n",
      "  [21 22]\n",
      "  [23 24]]]\n",
      "result12 = \n",
      " [[[ 1  2  3  4  5  6]\n",
      "  [ 7  8  9 10 11 12]]\n",
      "\n",
      " [[13 14 15 16 17 18]\n",
      "  [19 20 21 22 23 24]]]\n",
      "result13 = \n",
      " [ 1  2  3  4  5  6  7  8  9 10 11 12 13 14 15 16 17 18 19 20 21 22 23 24]\n"
     ]
    }
   ],
   "source": [
    "result4 = tf.reshape(result1,[2,-1])\n",
    "result5 = tf.reshape(result2,[2,-1])\n",
    "result6 = tf.reshape(result3,[2,-1])\n",
    "result7 = tf.reshape(result1,[-1,2])\n",
    "result8 = tf.reshape(result2,[-1,2])\n",
    "result9 = tf.reshape(result3,[-1,2])\n",
    "result10 = tf.reshape(result1,[-1,2,2])\n",
    "result11 = tf.reshape(result2,[2,-1,2])\n",
    "result12 = tf.reshape(result3,[2,2,-1])\n",
    "result13 = tf.reshape(result1,[-1])\n",
    "print('result4 = \\n', sess.run(result4))\n",
    "print('result5 = \\n', sess.run(result5))\n",
    "print('result6 = \\n', sess.run(result6))\n",
    "print('result7 = \\n', sess.run(result7))\n",
    "print('result8 = \\n', sess.run(result8))\n",
    "print('result9 = \\n', sess.run(result9))\n",
    "print('result10 = \\n', sess.run(result10))\n",
    "print('result11 = \\n', sess.run(result11))\n",
    "print('result12 = \\n', sess.run(result12))\n",
    "print('result13 = \\n', sess.run(result13))"
   ]
  },
  {
   "cell_type": "code",
   "execution_count": 4,
   "metadata": {
    "collapsed": false
   },
   "outputs": [
    {
     "name": "stdout",
     "output_type": "stream",
     "text": [
      "init =  None\n"
     ]
    }
   ],
   "source": [
    "b, c, d = 2, 3, 4\n",
    "x = tf.Variable(tf.random_normal([b, c, d], mean=0.0, stddev=1.0, dtype=tf.float32))\n",
    "s = tf.shape(x)\n",
    "init = tf.global_variables_initializer()\n",
    "print('init = ' ,sess.run(init))"
   ]
  },
  {
   "cell_type": "markdown",
   "metadata": {},
   "source": [
    "###### Printing variables"
   ]
  },
  {
   "cell_type": "code",
   "execution_count": 5,
   "metadata": {
    "collapsed": false
   },
   "outputs": [
    {
     "name": "stdout",
     "output_type": "stream",
     "text": [
      "x = \n",
      " [[[ 0.05296476 -0.59144998  0.21888156 -1.30634928]\n",
      "  [ 0.07562245  0.54422814 -0.28945741 -2.4547255 ]\n",
      "  [-0.13189495  1.16053343  1.09799862 -0.36790636]]\n",
      "\n",
      " [[-1.05851758  0.4055427  -0.55541044  1.30163646]\n",
      "  [ 0.43623698  0.35988063 -0.2545971   0.54564393]\n",
      "  [ 0.49471083 -0.02709649  1.40915966 -0.37623245]]]\n",
      "s =  [2 3 4]\n",
      "v1 =  2\n",
      "v2 =  3\n",
      "v3 =  4\n"
     ]
    }
   ],
   "source": [
    "print('x = \\n', sess.run(x))\n",
    "print('s = ', sess.run(s))\n",
    "v1, v2, v3 = sess.run(s)\n",
    "print('v1 = ' ,v1)\n",
    "print('v2 = ' ,v2)\n",
    "print('v3 = ' ,v3)"
   ]
  },
  {
   "cell_type": "markdown",
   "metadata": {},
   "source": [
    "###### Multiplication"
   ]
  },
  {
   "cell_type": "code",
   "execution_count": 6,
   "metadata": {
    "collapsed": false
   },
   "outputs": [
    {
     "name": "stdout",
     "output_type": "stream",
     "text": [
      "[[12]]\n"
     ]
    }
   ],
   "source": [
    "matrix1 = tf.constant([[3,3]])#Op created as a 1*2 matrix\n",
    "matrix2 = tf.constant([[2],[2]])#Op created as a 2*1 matrix\n",
    "product = tf.matmul(matrix1,matrix2)#Graph has 3 nodes - 2 constant ops and 1 matmul op\n",
    "sess = tf.Session()#Launches default graph\n",
    "result = sess.run(product)#run() method creates a numpy ndarray object\n",
    "print(result)\n",
    "sess.close()#Close session when done"
   ]
  },
  {
   "cell_type": "markdown",
   "metadata": {},
   "source": [
    "###### Interactive usage"
   ]
  },
  {
   "cell_type": "code",
   "execution_count": 7,
   "metadata": {
    "collapsed": false
   },
   "outputs": [
    {
     "name": "stdout",
     "output_type": "stream",
     "text": [
      "[[ 12.]]\n"
     ]
    }
   ],
   "source": [
    "sess = tf.InteractiveSession()#Launches default graph\n",
    "matrix1 = tf.constant([[3.,3.]])#Op created as a 1*2 matrix\n",
    "matrix2 = tf.constant([[2.],[2.]])#Op created as a 1*2 matrix\n",
    "product = tf.matmul(matrix1,matrix2)\n",
    "print(product.eval())#Interactive call makes sense with a variable as it avoids holding the variable throughout the run\n",
    "sess.close()#Close session when done"
   ]
  },
  {
   "cell_type": "code",
   "execution_count": 8,
   "metadata": {
    "collapsed": false
   },
   "outputs": [
    {
     "name": "stdout",
     "output_type": "stream",
     "text": [
      "[-2. -1.]\n"
     ]
    }
   ],
   "source": [
    "sess = tf.InteractiveSession()\n",
    "x = tf.Variable([1.0,2.0])\n",
    "a = tf.constant([3.0,3.0])\n",
    "x.initializer.run()#x is initialised\n",
    "sub = tf.subtract(x,a)\n",
    "print(sub.eval())\n",
    "sess.close()"
   ]
  },
  {
   "cell_type": "markdown",
   "metadata": {},
   "source": [
    "###### Executing code"
   ]
  },
  {
   "cell_type": "code",
   "execution_count": 9,
   "metadata": {
    "collapsed": false
   },
   "outputs": [
    {
     "name": "stdout",
     "output_type": "stream",
     "text": [
      "0\n",
      "0\n",
      "0\n",
      "0\n"
     ]
    }
   ],
   "source": [
    "state = tf.Variable(0, name=\"counter\")\n",
    "one = tf.constant(1)\n",
    "new_value = tf.add(state, one)\n",
    "update = tf.assign(state, new_value)\n",
    "init_op = tf.global_variables_initializer()#Variables must be initialised through after launching the graph\n",
    "\n",
    "with tf.Session() as sess:\n",
    "    sess.run(init_op)\n",
    "    print(sess.run(state))\n",
    "    for each in range(3):\n",
    "        print(sess.run(state))"
   ]
  },
  {
   "cell_type": "markdown",
   "metadata": {},
   "source": [
    "###### More Tensor shape manipulations"
   ]
  },
  {
   "cell_type": "code",
   "execution_count": 10,
   "metadata": {
    "collapsed": false,
    "scrolled": true
   },
   "outputs": [
    {
     "name": "stdout",
     "output_type": "stream",
     "text": [
      "result14 = \n",
      " [array([[[ 1,  2,  3,  4],\n",
      "        [ 5,  6,  7,  8]],\n",
      "\n",
      "       [[ 9, 10, 11, 12],\n",
      "        [13, 14, 15, 16]],\n",
      "\n",
      "       [[17, 18, 19, 20],\n",
      "        [21, 22, 23, 24]]])]\n",
      "result15 = \n",
      " [array([[[22, 23, 24]]])]\n",
      "result16 = \n",
      " [array([[[ 1,  2],\n",
      "        [ 5,  6]],\n",
      "\n",
      "       [[ 9, 10],\n",
      "        [13, 14]]])]\n",
      "Dimension of result14 is larger than that of result16 by: 1\n",
      "result17 = \n",
      " [array([[[10, 11],\n",
      "        [14, 15]]])]\n"
     ]
    }
   ],
   "source": [
    "sess = tf.Session()\n",
    "temp = tf.constant([1, 2, 3, 4, 5, 6, 7, 8, 9, 10, 11, 12, 13, 14, 15, 16, 17, 18, 19, 20, 21, 22, 23, 24])\n",
    "#temp = np.arange(120)\n",
    "result14 = tf.reshape(temp,[3,2,4])\n",
    "print('result14 = \\n' ,sess.run([result14]))\n",
    "result15 = tf.slice(result14,[2, 1, 1], [1, 1, -1])\n",
    "print('result15 = \\n' ,sess.run([result15]))\n",
    "result16 = tf.slice(result14, [0, 0, 0], [2, -1, 2])\n",
    "print('result16 = \\n' ,sess.run([result16]))\n",
    "print('Dimension of result14 is larger than that of result16 by:' ,\n",
    "      result14.get_shape().as_list()[0] - result16.get_shape().as_list()[0])\n",
    "result17 = tf.slice(result14, [1, 0, 1], [1, 2, 2])\n",
    "print('result17 = \\n' ,sess.run([result17]))"
   ]
  },
  {
   "cell_type": "code",
   "execution_count": 11,
   "metadata": {
    "collapsed": false,
    "scrolled": true
   },
   "outputs": [
    {
     "name": "stdout",
     "output_type": "stream",
     "text": [
      "result17 = \n",
      " [array([[[ 0,  1,  2,  3,  4],\n",
      "        [ 5,  6,  7,  8,  9],\n",
      "        [10, 11, 12, 13, 14],\n",
      "        [15, 16, 17, 18, 19],\n",
      "        [20, 21, 22, 23, 24]],\n",
      "\n",
      "       [[25, 26, 27, 28, 29],\n",
      "        [30, 31, 32, 33, 34],\n",
      "        [35, 36, 37, 38, 39],\n",
      "        [40, 41, 42, 43, 44],\n",
      "        [45, 46, 47, 48, 49]],\n",
      "\n",
      "       [[50, 51, 52, 53, 54],\n",
      "        [55, 56, 57, 58, 59],\n",
      "        [60, 61, 62, 63, 64],\n",
      "        [65, 66, 67, 68, 69],\n",
      "        [70, 71, 72, 73, 74]]])]\n",
      "result18 = \n",
      " [array([[ 0,  1,  2,  3,  4,  5,  6,  7,  8,  9, 10, 11, 12, 13, 14, 15, 16,\n",
      "        17, 18, 19, 20, 21, 22, 23, 24],\n",
      "       [25, 26, 27, 28, 29, 30, 31, 32, 33, 34, 35, 36, 37, 38, 39, 40, 41,\n",
      "        42, 43, 44, 45, 46, 47, 48, 49],\n",
      "       [50, 51, 52, 53, 54, 55, 56, 57, 58, 59, 60, 61, 62, 63, 64, 65, 66,\n",
      "        67, 68, 69, 70, 71, 72, 73, 74]])]\n",
      "result19 = \n",
      " [array([[ 0, 25, 50],\n",
      "       [ 1, 26, 51],\n",
      "       [ 2, 27, 52],\n",
      "       [ 3, 28, 53],\n",
      "       [ 4, 29, 54],\n",
      "       [ 5, 30, 55],\n",
      "       [ 6, 31, 56],\n",
      "       [ 7, 32, 57],\n",
      "       [ 8, 33, 58],\n",
      "       [ 9, 34, 59],\n",
      "       [10, 35, 60],\n",
      "       [11, 36, 61],\n",
      "       [12, 37, 62],\n",
      "       [13, 38, 63],\n",
      "       [14, 39, 64],\n",
      "       [15, 40, 65],\n",
      "       [16, 41, 66],\n",
      "       [17, 42, 67],\n",
      "       [18, 43, 68],\n",
      "       [19, 44, 69],\n",
      "       [20, 45, 70],\n",
      "       [21, 46, 71],\n",
      "       [22, 47, 72],\n",
      "       [23, 48, 73],\n",
      "       [24, 49, 74]])]\n",
      "No. of channels or classes = 5,\n",
      "No. of columns in flattened array or classes = 3\n",
      "\n"
     ]
    }
   ],
   "source": [
    "temp = np.arange(75)\n",
    "result17 = tf.reshape(temp,[3,5,5])\n",
    "print('result17 = \\n' ,sess.run([result17]))\n",
    "result18 = tf.reshape(result17,(3,-1))\n",
    "print('result18 = \\n' ,sess.run([result18]))\n",
    "result19 = tf.transpose(result18)\n",
    "print('result19 = \\n' ,sess.run([result19]))\n",
    "print('No. of channels or classes = ' +  str(result17.get_shape().as_list()[2]) + ',\\n' + \n",
    "      'No. of columns in flattened array or classes = ' + str(result19.get_shape().as_list()[1]) + '\\n')"
   ]
  },
  {
   "cell_type": "code",
   "execution_count": 12,
   "metadata": {
    "collapsed": false
   },
   "outputs": [
    {
     "name": "stdout",
     "output_type": "stream",
     "text": [
      "temp = \n",
      " [array([ 1,  2,  3,  4,  5,  6,  7,  8,  9, 10, 11, 12, 13, 14, 15, 16, 17,\n",
      "       18, 19, 20, 21, 22, 23, 24])]\n",
      "result20 = \n",
      " [array([[[ 1,  2,  3,  4],\n",
      "        [ 5,  6,  7,  8],\n",
      "        [ 9, 10, 11, 12]],\n",
      "\n",
      "       [[13, 14, 15, 16],\n",
      "        [17, 18, 19, 20],\n",
      "        [21, 22, 23, 24]]])]\n",
      "Shape of result20 is:  [2, 3, 4]\n",
      "Shape of result20 is:  [24]\n"
     ]
    }
   ],
   "source": [
    "temp = tf.constant([1, 2, 3, 4, 5, 6, 7, 8, 9, 10, 11, 12, 13, 14, 15, 16, 17, 18, 19, 20, 21, 22, 23, 24])\n",
    "print('temp = \\n' ,sess.run([temp]))\n",
    "result20 = tf.reshape(temp,[2,3,4])\n",
    "print('result20 = \\n' ,sess.run([result20]))\n",
    "print('Shape of result20 is: ',result20.get_shape().as_list())\n",
    "result21 = tf.reshape(result20,[-1])\n",
    "print('Shape of result20 is: ',result21.get_shape().as_list())"
   ]
  },
  {
   "cell_type": "code",
   "execution_count": 13,
   "metadata": {
    "collapsed": false
   },
   "outputs": [
    {
     "name": "stdout",
     "output_type": "stream",
     "text": [
      "result20 = \n",
      " 35\n",
      "Shape of temp1 is  [5]\n"
     ]
    }
   ],
   "source": [
    "temp1 = tf.constant([1,2,3,4,5])\n",
    "temp2 = tf.constant([5,4,3,2,1])\n",
    "result20 = tf.reduce_sum(temp1 * temp2)\n",
    "print('result20 = \\n' ,sess.run(result20))\n",
    "print('Shape of temp1 is ',temp1.get_shape().as_list())"
   ]
  },
  {
   "cell_type": "code",
   "execution_count": 14,
   "metadata": {
    "collapsed": false
   },
   "outputs": [
    {
     "name": "stdout",
     "output_type": "stream",
     "text": [
      "Shape of sumTemp1 is  []\n"
     ]
    }
   ],
   "source": [
    "sumTemp1 = tf.reduce_sum(temp1)\n",
    "print('Shape of sumTemp1 is ',sumTemp1.get_shape().as_list())"
   ]
  },
  {
   "cell_type": "code",
   "execution_count": 15,
   "metadata": {
    "collapsed": false
   },
   "outputs": [
    {
     "data": {
      "text/plain": [
       "[3, 3, 2]"
      ]
     },
     "execution_count": 15,
     "metadata": {},
     "output_type": "execute_result"
    }
   ],
   "source": [
    "temp = tf.constant([[[1,2],[1,2],[1,2]],[[1,2],[1,2],[1,2]],[[1,2],[1,2],[1,2]]])\n",
    "temp.get_shape().as_list()"
   ]
  },
  {
   "cell_type": "code",
   "execution_count": 16,
   "metadata": {
    "collapsed": false
   },
   "outputs": [
    {
     "name": "stdout",
     "output_type": "stream",
     "text": [
      "params shape =  [2, 2, 2]\n",
      "indices shape =  [2, 2, 3]\n",
      "slice output is:  [[b'b' b'f']\n",
      " [b'd' b'g']]\n"
     ]
    }
   ],
   "source": [
    "params = tf.constant([[['a', 'b'], ['c', 'd']],\n",
    "              [['e', 'f'], ['g', 'h']]])\n",
    "print('params shape = ', params.get_shape().as_list())\n",
    "indices = tf.constant([[[0, 0, 1], [1, 0, 1]], \n",
    "                       [[0, 1, 1], [1, 1, 0]]])\n",
    "print('indices shape = ', indices.get_shape().as_list())\n",
    "sliceoutput = tf.gather_nd(params, indices)\n",
    "print('slice output is: ', sess.run(sliceoutput))"
   ]
  },
  {
   "cell_type": "code",
   "execution_count": 17,
   "metadata": {
    "collapsed": false
   },
   "outputs": [
    {
     "name": "stdout",
     "output_type": "stream",
     "text": [
      "params shape =  [2, 2, 2]\n",
      "indices shape =  [2, 2, 2]\n",
      "slice output is:  [[[b'a' b'b']\n",
      "  [b'e' b'f']]\n",
      "\n",
      " [[b'c' b'd']\n",
      "  [b'g' b'h']]]\n"
     ]
    }
   ],
   "source": [
    "params = tf.constant([[['a', 'b'], ['c', 'd']],\n",
    "              [['e', 'f'], ['g', 'h']]])\n",
    "print('params shape = ', params.get_shape().as_list())\n",
    "indices = tf.constant([[[0, 0], [1, 0]], \n",
    "                       [[0, 1], [1, 1]]])\n",
    "print('indices shape = ', indices.get_shape().as_list())\n",
    "sliceoutput = tf.gather_nd(params, indices)\n",
    "print('slice output is: ', sess.run(sliceoutput))"
   ]
  },
  {
   "cell_type": "code",
   "execution_count": 18,
   "metadata": {
    "collapsed": false
   },
   "outputs": [
    {
     "name": "stdout",
     "output_type": "stream",
     "text": [
      "params shape =  [2, 2, 2]\n",
      "indices shape =  [2, 2]\n",
      "slice output is:  [[b'c' b'd']\n",
      " [b'c' b'd']]\n"
     ]
    }
   ],
   "source": [
    "params = tf.constant([[['a', 'b'], ['c', 'd']],\n",
    "              [['e', 'f'], ['g', 'h']]])\n",
    "print('params shape = ', params.get_shape().as_list())\n",
    "indices = tf.constant([[0, 1], \n",
    "                       [0, 1]])\n",
    "print('indices shape = ', indices.get_shape().as_list())\n",
    "sliceoutput = tf.gather_nd(params, indices)\n",
    "print('slice output is: ', sess.run(sliceoutput))"
   ]
  },
  {
   "cell_type": "code",
   "execution_count": 19,
   "metadata": {
    "collapsed": false
   },
   "outputs": [
    {
     "name": "stdout",
     "output_type": "stream",
     "text": [
      "params shape =  [2, 2, 2]\n",
      "indices shape =  [2, 2, 2]\n",
      "slice output is:  [[[b'a' b'b']\n",
      "  [b'e' b'f']]\n",
      "\n",
      " [[b'c' b'd']\n",
      "  [b'g' b'h']]]\n"
     ]
    }
   ],
   "source": [
    "params = tf.constant([[['a', 'b'], ['c', 'd']],\n",
    "              [['e', 'f'], ['g', 'h']]])\n",
    "print('params shape = ', params.get_shape().as_list())\n",
    "indices = tf.constant([[[0, 0], [1, 0]], \n",
    "                       [[0, 1], [1, 1]]])\n",
    "print('indices shape = ', indices.get_shape().as_list())\n",
    "sliceoutput = tf.gather_nd(params, indices)\n",
    "print('slice output is: ', sess.run(sliceoutput))"
   ]
  },
  {
   "cell_type": "code",
   "execution_count": 20,
   "metadata": {
    "collapsed": false
   },
   "outputs": [
    {
     "name": "stdout",
     "output_type": "stream",
     "text": [
      "y =>  [[[ 1  4]\n",
      "  [ 2  5]\n",
      "  [ 3  6]]\n",
      "\n",
      " [[ 7 10]\n",
      "  [ 8 11]\n",
      "  [ 9 12]]]\n",
      "z =>  [[[ 1  2  3]\n",
      "  [ 4  5  6]]\n",
      "\n",
      " [[ 7  8  9]\n",
      "  [10 11 12]]]\n"
     ]
    }
   ],
   "source": [
    "x = tf.constant([[[1,2,3],[4,5,6]],[[7,8,9],[10,11,12]]])\n",
    "#x = tf.constant([[[1,2,3],[4,5,6]],[[7,8,9],[10,11,12]]])\n",
    "y = tf.transpose(x, perm=[0, 2, 1])\n",
    "z = tf.transpose(x, perm=[0, 1, 2])\n",
    "print('y => ',sess.run(y))\n",
    "print('z => ',sess.run(z))"
   ]
  },
  {
   "cell_type": "code",
   "execution_count": 21,
   "metadata": {
    "collapsed": false
   },
   "outputs": [
    {
     "name": "stdout",
     "output_type": "stream",
     "text": [
      "\n",
      "Shape of t1 is:  [2, 2, 3]\n",
      "\n",
      "Shape of t2 is:  [2, 2, 3]\n",
      "\n",
      "Shape of a1 is:  [2, 2]\n",
      "\n",
      "Shape of a2 is:  [2, 2]\n",
      "\n",
      "Shape of r1 is:  [2, 2]\n",
      "\n",
      "Shape of r2 is:  [2, 2]\n",
      "\n",
      "Shape after compBool is:  [2, 2]\n",
      "\n",
      "Shape after predClass is:  [None, 2]\n",
      "\n",
      "Shape after f1 is:  [4]\n"
     ]
    }
   ],
   "source": [
    "t1 = tf.constant([[[1,2,30],[2,3,4]],[[50,6,7],[7,8,9]]])\n",
    "print('\\nShape of t1 is: ', t1.get_shape().as_list())\n",
    "t2 = tf.constant([[[10,2,3],[20,3,4]],[[5,6,7],[7,80,9]]])\n",
    "print('\\nShape of t2 is: ', t2.get_shape().as_list())\n",
    "\n",
    "a1 = tf.argmax(t1,2)\n",
    "print('\\nShape of a1 is: ', a1.get_shape().as_list())\n",
    "a2 = tf.argmax(t2,2)\n",
    "print('\\nShape of a2 is: ', a2.get_shape().as_list())\n",
    "\n",
    "compBool = tf.equal(a1,a2)\n",
    "\n",
    "r1 = tf.reduce_max(t1,2)\n",
    "print('\\nShape of r1 is: ', r1.get_shape().as_list())\n",
    "r2 = tf.reduce_max(t2,2)\n",
    "print('\\nShape of r2 is: ', r2.get_shape().as_list())\n",
    "\n",
    "print('\\nShape after compBool is: ', compBool.get_shape().as_list())\n",
    "#predClass = tf.where(compBool,r1,r2)\n",
    "predClass = tf.where(compBool)\n",
    "print('\\nShape after predClass is: ', predClass.get_shape().as_list())\n",
    "\n",
    "f1 = tf.reshape(r1,[-1])\n",
    "print('\\nShape after f1 is: ', f1.get_shape().as_list())\n",
    "nr = tf.log(tf.cast(f1,tf.float32))\n",
    "dr = tf.log(tf.constant(2,dtype=nr.dtype))\n",
    "nd = -tf.reduce_sum(nr/dr)"
   ]
  },
  {
   "cell_type": "code",
   "execution_count": 22,
   "metadata": {
    "collapsed": false
   },
   "outputs": [
    {
     "name": "stdout",
     "output_type": "stream",
     "text": [
      "Shape of valueMatrix is:  [2, 3, 4, 5]\n",
      "Transpose ==>  [[[[  1  61]\n",
      "   [ 21  81]\n",
      "   [ 41 101]]\n",
      "\n",
      "  [[  6  66]\n",
      "   [ 26  86]\n",
      "   [ 46 106]]\n",
      "\n",
      "  [[ 11  71]\n",
      "   [ 31  91]\n",
      "   [ 51 111]]\n",
      "\n",
      "  [[ 16  76]\n",
      "   [ 36  96]\n",
      "   [ 56 116]]]\n",
      "\n",
      "\n",
      " [[[  2  62]\n",
      "   [ 22  82]\n",
      "   [ 42 102]]\n",
      "\n",
      "  [[  7  67]\n",
      "   [ 27  87]\n",
      "   [ 47 107]]\n",
      "\n",
      "  [[ 12  72]\n",
      "   [ 32  92]\n",
      "   [ 52 112]]\n",
      "\n",
      "  [[ 17  77]\n",
      "   [ 37  97]\n",
      "   [ 57 117]]]\n",
      "\n",
      "\n",
      " [[[  3  63]\n",
      "   [ 23  83]\n",
      "   [ 43 103]]\n",
      "\n",
      "  [[  8  68]\n",
      "   [ 28  88]\n",
      "   [ 48 108]]\n",
      "\n",
      "  [[ 13  73]\n",
      "   [ 33  93]\n",
      "   [ 53 113]]\n",
      "\n",
      "  [[ 18  78]\n",
      "   [ 38  98]\n",
      "   [ 58 118]]]\n",
      "\n",
      "\n",
      " [[[  4  64]\n",
      "   [ 24  84]\n",
      "   [ 44 104]]\n",
      "\n",
      "  [[  9  69]\n",
      "   [ 29  89]\n",
      "   [ 49 109]]\n",
      "\n",
      "  [[ 14  74]\n",
      "   [ 34  94]\n",
      "   [ 54 114]]\n",
      "\n",
      "  [[ 19  79]\n",
      "   [ 39  99]\n",
      "   [ 59 119]]]\n",
      "\n",
      "\n",
      " [[[  5  65]\n",
      "   [ 25  85]\n",
      "   [ 45 105]]\n",
      "\n",
      "  [[ 10  70]\n",
      "   [ 30  90]\n",
      "   [ 50 110]]\n",
      "\n",
      "  [[ 15  75]\n",
      "   [ 35  95]\n",
      "   [ 55 115]]\n",
      "\n",
      "  [[ 20  80]\n",
      "   [ 40 100]\n",
      "   [ 60 120]]]]\n",
      "Shape of transpose =  [5, 4, 3, 2]\n",
      "Last dimension of transpose ==>  [[[[  5  65]\n",
      "   [ 25  85]\n",
      "   [ 45 105]]\n",
      "\n",
      "  [[ 10  70]\n",
      "   [ 30  90]\n",
      "   [ 50 110]]\n",
      "\n",
      "  [[ 15  75]\n",
      "   [ 35  95]\n",
      "   [ 55 115]]\n",
      "\n",
      "  [[ 20  80]\n",
      "   [ 40 100]\n",
      "   [ 60 120]]]\n",
      "\n",
      "\n",
      " [[[  4  64]\n",
      "   [ 24  84]\n",
      "   [ 44 104]]\n",
      "\n",
      "  [[  9  69]\n",
      "   [ 29  89]\n",
      "   [ 49 109]]\n",
      "\n",
      "  [[ 14  74]\n",
      "   [ 34  94]\n",
      "   [ 54 114]]\n",
      "\n",
      "  [[ 19  79]\n",
      "   [ 39  99]\n",
      "   [ 59 119]]]\n",
      "\n",
      "\n",
      " [[[  3  63]\n",
      "   [ 23  83]\n",
      "   [ 43 103]]\n",
      "\n",
      "  [[  8  68]\n",
      "   [ 28  88]\n",
      "   [ 48 108]]\n",
      "\n",
      "  [[ 13  73]\n",
      "   [ 33  93]\n",
      "   [ 53 113]]\n",
      "\n",
      "  [[ 18  78]\n",
      "   [ 38  98]\n",
      "   [ 58 118]]]]\n",
      "Original ==>  [[[[  1   2   3   4   5]\n",
      "   [  6   7   8   9  10]\n",
      "   [ 11  12  13  14  15]\n",
      "   [ 16  17  18  19  20]]\n",
      "\n",
      "  [[ 21  22  23  24  25]\n",
      "   [ 26  27  28  29  30]\n",
      "   [ 31  32  33  34  35]\n",
      "   [ 36  37  38  39  40]]\n",
      "\n",
      "  [[ 41  42  43  44  45]\n",
      "   [ 46  47  48  49  50]\n",
      "   [ 51  52  53  54  55]\n",
      "   [ 56  57  58  59  60]]]\n",
      "\n",
      "\n",
      " [[[ 61  62  63  64  65]\n",
      "   [ 66  67  68  69  70]\n",
      "   [ 71  72  73  74  75]\n",
      "   [ 76  77  78  79  80]]\n",
      "\n",
      "  [[ 81  82  83  84  85]\n",
      "   [ 86  87  88  89  90]\n",
      "   [ 91  92  93  94  95]\n",
      "   [ 96  97  98  99 100]]\n",
      "\n",
      "  [[101 102 103 104 105]\n",
      "   [106 107 108 109 110]\n",
      "   [111 112 113 114 115]\n",
      "   [116 117 118 119 120]]]]\n",
      "Indexed ==>  [[[[21 22 23 24 25]\n",
      "   [26 27 28 29 30]\n",
      "   [31 32 33 34 35]\n",
      "   [36 37 38 39 40]]]\n",
      "\n",
      "\n",
      " [[[61 62 63 64 65]\n",
      "   [66 67 68 69 70]\n",
      "   [71 72 73 74 75]\n",
      "   [76 77 78 79 80]]]]\n"
     ]
    }
   ],
   "source": [
    "#valueMatrix = tf.constant([[[7,15,5],[4,6,8]],[[70,150,50],[40,60,80]]])\n",
    "#valueMatrix = tf.constant([[7,15,5],[4,6,8]])\n",
    "#valueMatrix = tf.constant([[[7,15],[4,6]],[[70,150],[40,60]],[[7,15],[4,6]],[[70,150],[40,60]]])\n",
    "#valueMatrix = tf.constant([[[7,15],[4,6]],[[70,150],[40,60]]])\n",
    "valueMatrix = tf.constant([[[[1,2,3,4,5],[6,7,8,9,10],[11,12,13,14,15],[16,17,18,19,20]],\n",
    "                           [[21,22,23,24,25],[26,27,28,29,30],[31,32,33,34,35],[36,37,38,39,40]],\n",
    "                          [[41,42,43,44,45],[46,47,48,49,50],[51,52,53,54,55],[56,57,58,59,60]]],\n",
    "                          [[[61,62,63,64,65],[66,67,68,69,70],[71,72,73,74,75],[76,77,78,79,80]],\n",
    "                           [[81,82,83,84,85],[86,87,88,89,90],[91,92,93,94,95],[96,97,98,99,100]],\n",
    "                           [[101,102,103,104,105],[106,107,108,109,110],[111,112,113,114,115],[116,117,118,119,120]]]])\n",
    "indexMatrix = tf.constant([[1],[0]])\n",
    "print('Shape of valueMatrix is: ', valueMatrix.get_shape().as_list())\n",
    "# create the row index with tf.range\n",
    "row_idx = tf.reshape(tf.range(indexMatrix.shape[0]), (-1,1))\n",
    "# stack with column index\n",
    "idx = tf.stack([row_idx, indexMatrix], axis=-1)\n",
    "# extract the elements with gather_nd\n",
    "values = tf.gather_nd(valueMatrix, idx)\n",
    "#valuesShape = values.get_shape().as_list()\n",
    "#idx_list = np.array([[0,2],[0,2]])\n",
    "#idx_list = np.array([0,1,2,3,4])\n",
    "#output = tf.transpose(tf.gather(tf.transpose(input),idx_list))\n",
    "transp = tf.convert_to_tensor(tf.transpose(valueMatrix))\n",
    "lastDim = tf.gather(transp,[4,3,2])\n",
    "with tf.Session() as sess:\n",
    "    print('Transpose ==> ',sess.run(transp))\n",
    "    print('Shape of transpose = ',transp.get_shape().as_list())\n",
    "    print('Last dimension of transpose ==> ',sess.run(lastDim))\n",
    "    print('Original ==> ',sess.run(valueMatrix))\n",
    "    print('Indexed ==> ',sess.run(values))\n",
    "    #print('Computed indexed  ==> ',sess.run(output))\n",
    "    #print('Shape of indexed = ',sess.run(final))"
   ]
  }
 ],
 "metadata": {
  "anaconda-cloud": {},
  "kernelspec": {
   "display_name": "Python [conda env:tensorflow]",
   "language": "python",
   "name": "conda-env-tensorflow-py"
  },
  "language_info": {
   "codemirror_mode": {
    "name": "ipython",
    "version": 3
   },
   "file_extension": ".py",
   "mimetype": "text/x-python",
   "name": "python",
   "nbconvert_exporter": "python",
   "pygments_lexer": "ipython3",
   "version": "3.5.4"
  }
 },
 "nbformat": 4,
 "nbformat_minor": 1
}
